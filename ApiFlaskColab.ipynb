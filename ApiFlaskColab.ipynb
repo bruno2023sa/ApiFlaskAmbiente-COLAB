!pip install flask
!pip install flask-ngrok
     

Looking in indexes: https://pypi.org/simple, https://us-python.pkg.dev/colab-wheels/public/simple/
Requirement already satisfied: flask in /usr/local/lib/python3.8/dist-packages (1.1.4)
Requirement already satisfied: Jinja2<3.0,>=2.10.1 in /usr/local/lib/python3.8/dist-packages (from flask) (2.11.3)
Requirement already satisfied: click<8.0,>=5.1 in /usr/local/lib/python3.8/dist-packages (from flask) (7.1.2)
Requirement already satisfied: itsdangerous<2.0,>=0.24 in /usr/local/lib/python3.8/dist-packages (from flask) (1.1.0)
Requirement already satisfied: Werkzeug<2.0,>=0.15 in /usr/local/lib/python3.8/dist-packages (from flask) (1.0.1)
Requirement already satisfied: MarkupSafe>=0.23 in /usr/local/lib/python3.8/dist-packages (from Jinja2<3.0,>=2.10.1->flask) (2.0.1)
Looking in indexes: https://pypi.org/simple, https://us-python.pkg.dev/colab-wheels/public/simple/
Requirement already satisfied: flask-ngrok in /usr/local/lib/python3.8/dist-packages (0.0.25)
Requirement already satisfied: Flask>=0.8 in /usr/local/lib/python3.8/dist-packages (from flask-ngrok) (1.1.4)
Requirement already satisfied: requests in /usr/local/lib/python3.8/dist-packages (from flask-ngrok) (2.25.1)
Requirement already satisfied: click<8.0,>=5.1 in /usr/local/lib/python3.8/dist-packages (from Flask>=0.8->flask-ngrok) (7.1.2)
Requirement already satisfied: itsdangerous<2.0,>=0.24 in /usr/local/lib/python3.8/dist-packages (from Flask>=0.8->flask-ngrok) (1.1.0)
Requirement already satisfied: Jinja2<3.0,>=2.10.1 in /usr/local/lib/python3.8/dist-packages (from Flask>=0.8->flask-ngrok) (2.11.3)
Requirement already satisfied: Werkzeug<2.0,>=0.15 in /usr/local/lib/python3.8/dist-packages (from Flask>=0.8->flask-ngrok) (1.0.1)
Requirement already satisfied: idna<3,>=2.5 in /usr/local/lib/python3.8/dist-packages (from requests->flask-ngrok) (2.10)
Requirement already satisfied: chardet<5,>=3.0.2 in /usr/local/lib/python3.8/dist-packages (from requests->flask-ngrok) (4.0.0)
Requirement already satisfied: certifi>=2017.4.17 in /usr/local/lib/python3.8/dist-packages (from requests->flask-ngrok) (2022.12.7)
Requirement already satisfied: urllib3<1.27,>=1.21.1 in /usr/local/lib/python3.8/dist-packages (from requests->flask-ngrok) (1.24.3)
Requirement already satisfied: MarkupSafe>=0.23 in /usr/local/lib/python3.8/dist-packages (from Jinja2<3.0,>=2.10.1->Flask>=0.8->flask-ngrok) (2.0.1)


import pandas as pd
from flask_ngrok import run_with_ngrok
from flask import *
import random as rk
     

app = Flask(__name__) 
run_with_ngrok(app)
     

d = [
    {
    "Number": 1,
    "Name": "Mahesh", 
    "Age": 25, 
    "City": "Bangalore",
    "Country": "India"
    },
    {
    "Number": "2",
    "Name": "Alex", 
    "Age": 26, 
    "City": "London",
    "Country": "Uk"      
    },
    {
    "Number": "3",
    "Name": "David", 
    "Age": 27, 
    "City": "San Francisco",
    "Country": "USA"       
    },
    {
    "Number": "4",
    "Name": "John", 
    "Age": 28, 
    "City": "Toronto",
    "Country": "Canadá"      
    }, 
    {
    "Number": "5",
    "Name": "Chris", 
    "Age": 29, 
    "City": "Paris",
    "Country": "France"      
    }
]
     

@app.route("/")

def home():
  '''
  The entire line below must be written in a single line.
  '''
  return " TO CHECK IN PUT ADD '/index' TO THE URL AND TO CHECK OUT PUT ADD '/output' TO THE URL."
     

@app.route("/index") 

def index():
  return jsonify(d) 
     

@app.route('/output', methods=['GET','POST']) 

def predJson():
 pred = r.choice(["positive","negative"])
 nd = d 
 nd["prediction"]=pred
 return jsonify(nd)

app.run()
     

 * Serving Flask app "__main__" (lazy loading)
 * Environment: production
   WARNING: This is a development server. Do not use it in a production deployment.
   Use a production WSGI server instead.
 * Debug mode: off

INFO:werkzeug: * Running on http://127.0.0.1:5000/ (Press CTRL+C to quit)

 * Running on http://9251-104-196-180-249.ngrok.io
 * Traffic stats available on http://127.0.0.1:4040

INFO:werkzeug:127.0.0.1 - - [26/Jan/2023 00:24:19] "GET / HTTP/1.1" 200 -
INFO:werkzeug:127.0.0.1 - - [26/Jan/2023 00:24:20] "GET /favicon.ico HTTP/1.1" 404 -
INFO:werkzeug:127.0.0.1 - - [26/Jan/2023 00:24:23] "GET /index HTTP/1.1" 200 -
INFO:werkzeug:127.0.0.1 - - [26/Jan/2023 00:24:24] "GET /favicon.ico HTTP/1.1" 404 -

